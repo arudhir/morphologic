{
 "cells": [
  {
   "cell_type": "code",
   "execution_count": 1,
   "id": "0b08cf9f-749e-44b0-9f98-1a3a55fc1536",
   "metadata": {},
   "outputs": [],
   "source": [
    "import pycytominer"
   ]
  }
 ],
 "metadata": {
  "kernelspec": {
   "display_name": "Python 3 (ipykernel)",
   "language": "python",
   "name": "python3"
  },
  "language_info": {
   "codemirror_mode": {
    "name": "ipython",
    "version": 3
   },
   "file_extension": ".py",
   "mimetype": "text/x-python",
   "name": "python",
   "nbconvert_exporter": "python",
   "pygments_lexer": "ipython3",
   "version": "3.10.15"
  }
 },
 "nbformat": 4,
 "nbformat_minor": 5
}
